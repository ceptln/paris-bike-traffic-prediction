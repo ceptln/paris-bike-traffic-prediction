{
 "cells": [
  {
   "cell_type": "code",
   "execution_count": 1,
   "id": "fc609560",
   "metadata": {},
   "outputs": [],
   "source": [
    "import os\n",
    "from os import getcwd\n",
    "import pandas as pd\n",
    "from sklearn.preprocessing import FunctionTransformer\n",
    "from sklearn.preprocessing import OneHotEncoder\n",
    "from sklearn.pipeline import make_pipeline\n",
    "from sklearn.compose import ColumnTransformer\n",
    "from sklearn.linear_model import LinearRegression\n",
    "from sklearn.linear_model import Ridge\n",
    "from sklearn.preprocessing import StandardScaler\n",
    "from sklearn.preprocessing import MinMaxScaler\n",
    "from sklearn.linear_model import LogisticRegression\n",
    "from pathlib import Path\n",
    "from sklearn.model_selection import GridSearchCV\n",
    "import numpy as np"
   ]
  },
  {
   "cell_type": "code",
   "execution_count": 2,
   "id": "72372407",
   "metadata": {},
   "outputs": [],
   "source": [
    "train = pd.read_parquet(\"data/train.parquet\")\n",
    "test = pd.read_parquet(\"data/test.parquet\")"
   ]
  },
  {
   "cell_type": "code",
   "execution_count": 3,
   "id": "759ea278",
   "metadata": {},
   "outputs": [
    {
     "data": {
      "text/html": [
       "<div>\n",
       "<style scoped>\n",
       "    .dataframe tbody tr th:only-of-type {\n",
       "        vertical-align: middle;\n",
       "    }\n",
       "\n",
       "    .dataframe tbody tr th {\n",
       "        vertical-align: top;\n",
       "    }\n",
       "\n",
       "    .dataframe thead th {\n",
       "        text-align: right;\n",
       "    }\n",
       "</style>\n",
       "<table border=\"1\" class=\"dataframe\">\n",
       "  <thead>\n",
       "    <tr style=\"text-align: right;\">\n",
       "      <th></th>\n",
       "      <th>counter_id</th>\n",
       "      <th>counter_name</th>\n",
       "      <th>site_id</th>\n",
       "      <th>site_name</th>\n",
       "      <th>bike_count</th>\n",
       "      <th>date</th>\n",
       "      <th>counter_installation_date</th>\n",
       "      <th>counter_technical_id</th>\n",
       "      <th>latitude</th>\n",
       "      <th>longitude</th>\n",
       "      <th>log_bike_count</th>\n",
       "    </tr>\n",
       "  </thead>\n",
       "  <tbody>\n",
       "    <tr>\n",
       "      <th>48321</th>\n",
       "      <td>100007049-102007049</td>\n",
       "      <td>28 boulevard Diderot E-O</td>\n",
       "      <td>100007049</td>\n",
       "      <td>28 boulevard Diderot</td>\n",
       "      <td>0.0</td>\n",
       "      <td>2020-09-01 02:00:00</td>\n",
       "      <td>2013-01-18</td>\n",
       "      <td>Y2H15027244</td>\n",
       "      <td>48.846028</td>\n",
       "      <td>2.375429</td>\n",
       "      <td>0.000000</td>\n",
       "    </tr>\n",
       "    <tr>\n",
       "      <th>48324</th>\n",
       "      <td>100007049-102007049</td>\n",
       "      <td>28 boulevard Diderot E-O</td>\n",
       "      <td>100007049</td>\n",
       "      <td>28 boulevard Diderot</td>\n",
       "      <td>1.0</td>\n",
       "      <td>2020-09-01 03:00:00</td>\n",
       "      <td>2013-01-18</td>\n",
       "      <td>Y2H15027244</td>\n",
       "      <td>48.846028</td>\n",
       "      <td>2.375429</td>\n",
       "      <td>0.693147</td>\n",
       "    </tr>\n",
       "    <tr>\n",
       "      <th>48327</th>\n",
       "      <td>100007049-102007049</td>\n",
       "      <td>28 boulevard Diderot E-O</td>\n",
       "      <td>100007049</td>\n",
       "      <td>28 boulevard Diderot</td>\n",
       "      <td>0.0</td>\n",
       "      <td>2020-09-01 04:00:00</td>\n",
       "      <td>2013-01-18</td>\n",
       "      <td>Y2H15027244</td>\n",
       "      <td>48.846028</td>\n",
       "      <td>2.375429</td>\n",
       "      <td>0.000000</td>\n",
       "    </tr>\n",
       "    <tr>\n",
       "      <th>48330</th>\n",
       "      <td>100007049-102007049</td>\n",
       "      <td>28 boulevard Diderot E-O</td>\n",
       "      <td>100007049</td>\n",
       "      <td>28 boulevard Diderot</td>\n",
       "      <td>4.0</td>\n",
       "      <td>2020-09-01 15:00:00</td>\n",
       "      <td>2013-01-18</td>\n",
       "      <td>Y2H15027244</td>\n",
       "      <td>48.846028</td>\n",
       "      <td>2.375429</td>\n",
       "      <td>1.609438</td>\n",
       "    </tr>\n",
       "    <tr>\n",
       "      <th>48333</th>\n",
       "      <td>100007049-102007049</td>\n",
       "      <td>28 boulevard Diderot E-O</td>\n",
       "      <td>100007049</td>\n",
       "      <td>28 boulevard Diderot</td>\n",
       "      <td>9.0</td>\n",
       "      <td>2020-09-01 18:00:00</td>\n",
       "      <td>2013-01-18</td>\n",
       "      <td>Y2H15027244</td>\n",
       "      <td>48.846028</td>\n",
       "      <td>2.375429</td>\n",
       "      <td>2.302585</td>\n",
       "    </tr>\n",
       "  </tbody>\n",
       "</table>\n",
       "</div>"
      ],
      "text/plain": [
       "                counter_id              counter_name    site_id  \\\n",
       "48321  100007049-102007049  28 boulevard Diderot E-O  100007049   \n",
       "48324  100007049-102007049  28 boulevard Diderot E-O  100007049   \n",
       "48327  100007049-102007049  28 boulevard Diderot E-O  100007049   \n",
       "48330  100007049-102007049  28 boulevard Diderot E-O  100007049   \n",
       "48333  100007049-102007049  28 boulevard Diderot E-O  100007049   \n",
       "\n",
       "                  site_name  bike_count                date  \\\n",
       "48321  28 boulevard Diderot         0.0 2020-09-01 02:00:00   \n",
       "48324  28 boulevard Diderot         1.0 2020-09-01 03:00:00   \n",
       "48327  28 boulevard Diderot         0.0 2020-09-01 04:00:00   \n",
       "48330  28 boulevard Diderot         4.0 2020-09-01 15:00:00   \n",
       "48333  28 boulevard Diderot         9.0 2020-09-01 18:00:00   \n",
       "\n",
       "      counter_installation_date counter_technical_id   latitude  longitude  \\\n",
       "48321                2013-01-18          Y2H15027244  48.846028   2.375429   \n",
       "48324                2013-01-18          Y2H15027244  48.846028   2.375429   \n",
       "48327                2013-01-18          Y2H15027244  48.846028   2.375429   \n",
       "48330                2013-01-18          Y2H15027244  48.846028   2.375429   \n",
       "48333                2013-01-18          Y2H15027244  48.846028   2.375429   \n",
       "\n",
       "       log_bike_count  \n",
       "48321        0.000000  \n",
       "48324        0.693147  \n",
       "48327        0.000000  \n",
       "48330        1.609438  \n",
       "48333        2.302585  "
      ]
     },
     "execution_count": 3,
     "metadata": {},
     "output_type": "execute_result"
    }
   ],
   "source": [
    "train.head()"
   ]
  },
  {
   "cell_type": "code",
   "execution_count": 4,
   "id": "e43f3f11",
   "metadata": {},
   "outputs": [
    {
     "data": {
      "text/html": [
       "<div>\n",
       "<style scoped>\n",
       "    .dataframe tbody tr th:only-of-type {\n",
       "        vertical-align: middle;\n",
       "    }\n",
       "\n",
       "    .dataframe tbody tr th {\n",
       "        vertical-align: top;\n",
       "    }\n",
       "\n",
       "    .dataframe thead th {\n",
       "        text-align: right;\n",
       "    }\n",
       "</style>\n",
       "<table border=\"1\" class=\"dataframe\">\n",
       "  <thead>\n",
       "    <tr style=\"text-align: right;\">\n",
       "      <th></th>\n",
       "      <th>counter_id</th>\n",
       "      <th>counter_name</th>\n",
       "      <th>site_id</th>\n",
       "      <th>site_name</th>\n",
       "      <th>bike_count</th>\n",
       "      <th>date</th>\n",
       "      <th>counter_installation_date</th>\n",
       "      <th>counter_technical_id</th>\n",
       "      <th>latitude</th>\n",
       "      <th>longitude</th>\n",
       "      <th>log_bike_count</th>\n",
       "    </tr>\n",
       "  </thead>\n",
       "  <tbody>\n",
       "    <tr>\n",
       "      <th>56474</th>\n",
       "      <td>100007049-102007049</td>\n",
       "      <td>28 boulevard Diderot E-O</td>\n",
       "      <td>100007049</td>\n",
       "      <td>28 boulevard Diderot</td>\n",
       "      <td>1.0</td>\n",
       "      <td>2021-08-10 05:00:00</td>\n",
       "      <td>2013-01-18</td>\n",
       "      <td>Y2H15027244</td>\n",
       "      <td>48.846028</td>\n",
       "      <td>2.375429</td>\n",
       "      <td>0.693147</td>\n",
       "    </tr>\n",
       "    <tr>\n",
       "      <th>56477</th>\n",
       "      <td>100007049-102007049</td>\n",
       "      <td>28 boulevard Diderot E-O</td>\n",
       "      <td>100007049</td>\n",
       "      <td>28 boulevard Diderot</td>\n",
       "      <td>2.0</td>\n",
       "      <td>2021-08-10 06:00:00</td>\n",
       "      <td>2013-01-18</td>\n",
       "      <td>Y2H15027244</td>\n",
       "      <td>48.846028</td>\n",
       "      <td>2.375429</td>\n",
       "      <td>1.098612</td>\n",
       "    </tr>\n",
       "    <tr>\n",
       "      <th>56480</th>\n",
       "      <td>100007049-102007049</td>\n",
       "      <td>28 boulevard Diderot E-O</td>\n",
       "      <td>100007049</td>\n",
       "      <td>28 boulevard Diderot</td>\n",
       "      <td>1.0</td>\n",
       "      <td>2021-08-10 07:00:00</td>\n",
       "      <td>2013-01-18</td>\n",
       "      <td>Y2H15027244</td>\n",
       "      <td>48.846028</td>\n",
       "      <td>2.375429</td>\n",
       "      <td>0.693147</td>\n",
       "    </tr>\n",
       "    <tr>\n",
       "      <th>56483</th>\n",
       "      <td>100007049-102007049</td>\n",
       "      <td>28 boulevard Diderot E-O</td>\n",
       "      <td>100007049</td>\n",
       "      <td>28 boulevard Diderot</td>\n",
       "      <td>0.0</td>\n",
       "      <td>2021-08-10 09:00:00</td>\n",
       "      <td>2013-01-18</td>\n",
       "      <td>Y2H15027244</td>\n",
       "      <td>48.846028</td>\n",
       "      <td>2.375429</td>\n",
       "      <td>0.000000</td>\n",
       "    </tr>\n",
       "    <tr>\n",
       "      <th>56486</th>\n",
       "      <td>100007049-102007049</td>\n",
       "      <td>28 boulevard Diderot E-O</td>\n",
       "      <td>100007049</td>\n",
       "      <td>28 boulevard Diderot</td>\n",
       "      <td>1.0</td>\n",
       "      <td>2021-08-10 10:00:00</td>\n",
       "      <td>2013-01-18</td>\n",
       "      <td>Y2H15027244</td>\n",
       "      <td>48.846028</td>\n",
       "      <td>2.375429</td>\n",
       "      <td>0.693147</td>\n",
       "    </tr>\n",
       "  </tbody>\n",
       "</table>\n",
       "</div>"
      ],
      "text/plain": [
       "                counter_id              counter_name    site_id  \\\n",
       "56474  100007049-102007049  28 boulevard Diderot E-O  100007049   \n",
       "56477  100007049-102007049  28 boulevard Diderot E-O  100007049   \n",
       "56480  100007049-102007049  28 boulevard Diderot E-O  100007049   \n",
       "56483  100007049-102007049  28 boulevard Diderot E-O  100007049   \n",
       "56486  100007049-102007049  28 boulevard Diderot E-O  100007049   \n",
       "\n",
       "                  site_name  bike_count                date  \\\n",
       "56474  28 boulevard Diderot         1.0 2021-08-10 05:00:00   \n",
       "56477  28 boulevard Diderot         2.0 2021-08-10 06:00:00   \n",
       "56480  28 boulevard Diderot         1.0 2021-08-10 07:00:00   \n",
       "56483  28 boulevard Diderot         0.0 2021-08-10 09:00:00   \n",
       "56486  28 boulevard Diderot         1.0 2021-08-10 10:00:00   \n",
       "\n",
       "      counter_installation_date counter_technical_id   latitude  longitude  \\\n",
       "56474                2013-01-18          Y2H15027244  48.846028   2.375429   \n",
       "56477                2013-01-18          Y2H15027244  48.846028   2.375429   \n",
       "56480                2013-01-18          Y2H15027244  48.846028   2.375429   \n",
       "56483                2013-01-18          Y2H15027244  48.846028   2.375429   \n",
       "56486                2013-01-18          Y2H15027244  48.846028   2.375429   \n",
       "\n",
       "       log_bike_count  \n",
       "56474        0.693147  \n",
       "56477        1.098612  \n",
       "56480        0.693147  \n",
       "56483        0.000000  \n",
       "56486        0.693147  "
      ]
     },
     "execution_count": 4,
     "metadata": {},
     "output_type": "execute_result"
    }
   ],
   "source": [
    "test.head()"
   ]
  },
  {
   "cell_type": "code",
   "execution_count": 5,
   "id": "77b6e896",
   "metadata": {},
   "outputs": [],
   "source": [
    "def _encode_dates(X):\n",
    "    X = X.copy()\n",
    "    X.loc[:, \"year\"] = X[\"date\"].dt.year\n",
    "    X.loc[:, \"month\"] = X[\"date\"].dt.month\n",
    "    X.loc[:, \"day\"] = X[\"date\"].dt.day\n",
    "    X.loc[:, \"weekday\"] = X[\"date\"].dt.weekday\n",
    "    X.loc[:, \"hour\"] = X[\"date\"].dt.hour\n",
    "    return X.drop(columns=[\"date\"])"
   ]
  },
  {
   "cell_type": "code",
   "execution_count": 6,
   "id": "49d2a01e",
   "metadata": {},
   "outputs": [],
   "source": [
    "import problem\n",
    "\n",
    "X_train, y_train = problem.get_train_data()\n",
    "X_test, y_test = problem.get_test_data()"
   ]
  },
  {
   "cell_type": "code",
   "execution_count": 7,
   "id": "be68133d",
   "metadata": {},
   "outputs": [
    {
     "data": {
      "text/html": [
       "<div>\n",
       "<style scoped>\n",
       "    .dataframe tbody tr th:only-of-type {\n",
       "        vertical-align: middle;\n",
       "    }\n",
       "\n",
       "    .dataframe tbody tr th {\n",
       "        vertical-align: top;\n",
       "    }\n",
       "\n",
       "    .dataframe thead th {\n",
       "        text-align: right;\n",
       "    }\n",
       "</style>\n",
       "<table border=\"1\" class=\"dataframe\">\n",
       "  <thead>\n",
       "    <tr style=\"text-align: right;\">\n",
       "      <th></th>\n",
       "      <th>year</th>\n",
       "      <th>month</th>\n",
       "      <th>day</th>\n",
       "      <th>weekday</th>\n",
       "      <th>hour</th>\n",
       "    </tr>\n",
       "  </thead>\n",
       "  <tbody>\n",
       "    <tr>\n",
       "      <th>400125</th>\n",
       "      <td>2020</td>\n",
       "      <td>9</td>\n",
       "      <td>1</td>\n",
       "      <td>1</td>\n",
       "      <td>1</td>\n",
       "    </tr>\n",
       "    <tr>\n",
       "      <th>408305</th>\n",
       "      <td>2020</td>\n",
       "      <td>9</td>\n",
       "      <td>1</td>\n",
       "      <td>1</td>\n",
       "      <td>1</td>\n",
       "    </tr>\n",
       "    <tr>\n",
       "      <th>87516</th>\n",
       "      <td>2020</td>\n",
       "      <td>9</td>\n",
       "      <td>1</td>\n",
       "      <td>1</td>\n",
       "      <td>1</td>\n",
       "    </tr>\n",
       "    <tr>\n",
       "      <th>98518</th>\n",
       "      <td>2020</td>\n",
       "      <td>9</td>\n",
       "      <td>1</td>\n",
       "      <td>1</td>\n",
       "      <td>1</td>\n",
       "    </tr>\n",
       "    <tr>\n",
       "      <th>875137</th>\n",
       "      <td>2020</td>\n",
       "      <td>9</td>\n",
       "      <td>1</td>\n",
       "      <td>1</td>\n",
       "      <td>1</td>\n",
       "    </tr>\n",
       "  </tbody>\n",
       "</table>\n",
       "</div>"
      ],
      "text/plain": [
       "        year  month  day  weekday  hour\n",
       "400125  2020      9    1        1     1\n",
       "408305  2020      9    1        1     1\n",
       "87516   2020      9    1        1     1\n",
       "98518   2020      9    1        1     1\n",
       "875137  2020      9    1        1     1"
      ]
     },
     "execution_count": 7,
     "metadata": {},
     "output_type": "execute_result"
    }
   ],
   "source": [
    "_encode_dates(X_train[[\"date\"]].head())"
   ]
  },
  {
   "cell_type": "markdown",
   "id": "74e495ee",
   "metadata": {},
   "source": [
    "## 1. MERGE EXTERNAL DATA"
   ]
  },
  {
   "cell_type": "code",
   "execution_count": 8,
   "id": "02183b93",
   "metadata": {},
   "outputs": [],
   "source": [
    "df_weather = pd.read_csv(\"submissions/starting_kit/external_data.csv\", parse_dates=[\"date\"])"
   ]
  },
  {
   "cell_type": "code",
   "execution_count": 9,
   "id": "c3819352",
   "metadata": {},
   "outputs": [],
   "source": [
    "X_train[\"orig_index\"] = np.arange(X_train.shape[0])\n",
    "X_train_merged = pd.merge_asof(X_train.sort_values(\"date\"), df_weather.sort_values(\"date\"), on='date')\n",
    "X_train_merged = X_train_merged.sort_values(\"orig_index\")\n",
    "del X_train_merged[\"orig_index\"]"
   ]
  },
  {
   "cell_type": "markdown",
   "id": "d5303fe2",
   "metadata": {},
   "source": [
    "#### A. Feature selection"
   ]
  },
  {
   "cell_type": "code",
   "execution_count": 28,
   "id": "975ca9e2",
   "metadata": {},
   "outputs": [
    {
     "data": {
      "image/png": "[encoded data removed]",
      "text/plain": [
       "<Figure size 1080x360 with 1 Axes>"
      ]
     },
     "metadata": {
      "needs_background": "light"
     },
     "output_type": "display_data"
    }
   ],
   "source": [
    "import matplotlib.pyplot as plt\n",
    "X_train_merged[['w1', 'w2', 'n', 'nbas', 'hbas', 'cl', 'cm',\n",
    "       'ch', 'pres', 'niv_bar', 'geop', 'tend24', 'tn12', 'tn24', 'tx12',\n",
    "       'tx24', 'tminsol', 'sw', 'tw', 'raf10', 'rafper', 'per', 'etat_sol',\n",
    "       'ht_neige', 'ssfrai', 'perssfrai', 'rr1', 'rr3', 'rr6', 'rr12', 'rr24',\n",
    "       'phenspe1', 'phenspe2', 'phenspe3', 'phenspe4', 'nnuage1', 'ctype1',\n",
    "       'hnuage1', 'nnuage2', 'ctype2', 'hnuage2', 'nnuage3', 'ctype3',\n",
    "       'hnuage3', 'nnuage4', 'ctype4', 'hnuage4']].isna().sum().reset_index(name=\"n\").plot.bar(x='index', y='n', rot=90, fontsize=10, figsize=(15 ,5));\n",
    "plt.xlabel('time', fontsize=10)\n",
    "plt.ylabel('position', fontsize=10)\n",
    "L=plt.legend()\n",
    "L.get_texts()[0].set_text('Nb of missing values')\n",
    "plt.show\n",
    "plt.savefig(\"missingvaluesmeteo.jpg\")"
   ]
  },
  {
   "cell_type": "code",
   "execution_count": 11,
   "id": "78f5813c",
   "metadata": {},
   "outputs": [
    {
     "data": {
      "text/plain": [
       "Index(['counter_id', 'counter_name', 'site_id', 'site_name', 'date',\n",
       "       'counter_installation_date', 'counter_technical_id', 'latitude',\n",
       "       'longitude', 'numer_sta', 'pmer', 'tend', 'cod_tend', 'dd', 'ff', 't',\n",
       "       'td', 'u', 'vv', 'ww', 'w1', 'w2', 'n', 'nbas', 'hbas', 'cl', 'cm',\n",
       "       'ch', 'pres', 'niv_bar', 'geop', 'tend24', 'tn12', 'tn24', 'tx12',\n",
       "       'tx24', 'tminsol', 'sw', 'tw', 'raf10', 'rafper', 'per', 'etat_sol',\n",
       "       'ht_neige', 'ssfrai', 'perssfrai', 'rr1', 'rr3', 'rr6', 'rr12', 'rr24',\n",
       "       'phenspe1', 'phenspe2', 'phenspe3', 'phenspe4', 'nnuage1', 'ctype1',\n",
       "       'hnuage1', 'nnuage2', 'ctype2', 'hnuage2', 'nnuage3', 'ctype3',\n",
       "       'hnuage3', 'nnuage4', 'ctype4', 'hnuage4'],\n",
       "      dtype='object')"
      ]
     },
     "execution_count": 11,
     "metadata": {},
     "output_type": "execute_result"
    }
   ],
   "source": [
    "X_train_merged.columns"
   ]
  },
  {
   "cell_type": "code",
   "execution_count": 12,
   "id": "ebfda92e",
   "metadata": {},
   "outputs": [
    {
     "ename": "KeyError",
     "evalue": "\"['coordinates'] not found in axis\"",
     "output_type": "error",
     "traceback": [
      "\u001b[0;31m---------------------------------------------------------------------------\u001b[0m",
      "\u001b[0;31mKeyError\u001b[0m                                  Traceback (most recent call last)",
      "\u001b[0;32m/var/folders/xq/lq414ksd5g18kww0vlln1flr0000gn/T/ipykernel_77129/669397325.py\u001b[0m in \u001b[0;36m<module>\u001b[0;34m\u001b[0m\n\u001b[0;32m----> 1\u001b[0;31m X_train_merged.drop(['tn12', 'tn24', 'tx12','tx24', 'tminsol', 'sw', 'tw', \n\u001b[0m\u001b[1;32m      2\u001b[0m                      \u001b[0;34m'phenspe1'\u001b[0m\u001b[0;34m,\u001b[0m \u001b[0;34m'phenspe2'\u001b[0m\u001b[0;34m,\u001b[0m \u001b[0;34m'phenspe3'\u001b[0m\u001b[0;34m,\u001b[0m \u001b[0;34m'phenspe4'\u001b[0m\u001b[0;34m,\u001b[0m \u001b[0;34m'nnuage1'\u001b[0m\u001b[0;34m,\u001b[0m \u001b[0;34m'ctype1'\u001b[0m\u001b[0;34m,\u001b[0m\u001b[0;34m\u001b[0m\u001b[0;34m\u001b[0m\u001b[0m\n\u001b[1;32m      3\u001b[0m                      \u001b[0;34m'hnuage1'\u001b[0m\u001b[0;34m,\u001b[0m \u001b[0;34m'nnuage2'\u001b[0m\u001b[0;34m,\u001b[0m \u001b[0;34m'ctype2'\u001b[0m\u001b[0;34m,\u001b[0m \u001b[0;34m'hnuage2'\u001b[0m\u001b[0;34m,\u001b[0m \u001b[0;34m'nnuage3'\u001b[0m\u001b[0;34m,\u001b[0m \u001b[0;34m'ctype3'\u001b[0m\u001b[0;34m,\u001b[0m\u001b[0;34m\u001b[0m\u001b[0;34m\u001b[0m\u001b[0m\n\u001b[1;32m      4\u001b[0m                      \u001b[0;34m'hnuage3'\u001b[0m\u001b[0;34m,\u001b[0m \u001b[0;34m'nnuage4'\u001b[0m\u001b[0;34m,\u001b[0m \u001b[0;34m'ctype4'\u001b[0m\u001b[0;34m,\u001b[0m \u001b[0;34m'hnuage4'\u001b[0m\u001b[0;34m,\u001b[0m \u001b[0;34m'niv_bar'\u001b[0m\u001b[0;34m,\u001b[0m \u001b[0;34m'geop'\u001b[0m\u001b[0;34m,\u001b[0m \u001b[0;34m'hbas'\u001b[0m\u001b[0;34m,\u001b[0m \u001b[0;34m'cl'\u001b[0m\u001b[0;34m,\u001b[0m\u001b[0;34m\u001b[0m\u001b[0;34m\u001b[0m\u001b[0m\n\u001b[1;32m      5\u001b[0m                      \u001b[0;34m'cm'\u001b[0m\u001b[0;34m,\u001b[0m \u001b[0;34m'ch'\u001b[0m\u001b[0;34m,\u001b[0m \u001b[0;34m'numer_sta'\u001b[0m\u001b[0;34m,\u001b[0m \u001b[0;34m'per'\u001b[0m\u001b[0;34m,\u001b[0m \u001b[0;34m'longitude'\u001b[0m\u001b[0;34m,\u001b[0m \u001b[0;34m'latitude'\u001b[0m\u001b[0;34m,\u001b[0m \u001b[0;34m'counter_id'\u001b[0m\u001b[0;34m,\u001b[0m \u001b[0;34m'site_id'\u001b[0m\u001b[0;34m,\u001b[0m\u001b[0;34m\u001b[0m\u001b[0;34m\u001b[0m\u001b[0m\n",
      "\u001b[0;32m~/miniconda3/envs/bikes-ramp/lib/python3.9/site-packages/pandas/util/_decorators.py\u001b[0m in \u001b[0;36mwrapper\u001b[0;34m(*args, **kwargs)\u001b[0m\n\u001b[1;32m    309\u001b[0m                     \u001b[0mstacklevel\u001b[0m\u001b[0;34m=\u001b[0m\u001b[0mstacklevel\u001b[0m\u001b[0;34m,\u001b[0m\u001b[0;34m\u001b[0m\u001b[0;34m\u001b[0m\u001b[0m\n\u001b[1;32m    310\u001b[0m                 )\n\u001b[0;32m--> 311\u001b[0;31m             \u001b[0;32mreturn\u001b[0m \u001b[0mfunc\u001b[0m\u001b[0;34m(\u001b[0m\u001b[0;34m*\u001b[0m\u001b[0margs\u001b[0m\u001b[0;34m,\u001b[0m \u001b[0;34m**\u001b[0m\u001b[0mkwargs\u001b[0m\u001b[0;34m)\u001b[0m\u001b[0;34m\u001b[0m\u001b[0;34m\u001b[0m\u001b[0m\n\u001b[0m\u001b[1;32m    312\u001b[0m \u001b[0;34m\u001b[0m\u001b[0m\n\u001b[1;32m    313\u001b[0m         \u001b[0;32mreturn\u001b[0m \u001b[0mwrapper\u001b[0m\u001b[0;34m\u001b[0m\u001b[0;34m\u001b[0m\u001b[0m\n",
      "\u001b[0;32m~/miniconda3/envs/bikes-ramp/lib/python3.9/site-packages/pandas/core/frame.py\u001b[0m in \u001b[0;36mdrop\u001b[0;34m(self, labels, axis, index, columns, level, inplace, errors)\u001b[0m\n\u001b[1;32m   4904\u001b[0m                 \u001b[0mweight\u001b[0m  \u001b[0;36m1.0\u001b[0m     \u001b[0;36m0.8\u001b[0m\u001b[0;34m\u001b[0m\u001b[0;34m\u001b[0m\u001b[0m\n\u001b[1;32m   4905\u001b[0m         \"\"\"\n\u001b[0;32m-> 4906\u001b[0;31m         return super().drop(\n\u001b[0m\u001b[1;32m   4907\u001b[0m             \u001b[0mlabels\u001b[0m\u001b[0;34m=\u001b[0m\u001b[0mlabels\u001b[0m\u001b[0;34m,\u001b[0m\u001b[0;34m\u001b[0m\u001b[0;34m\u001b[0m\u001b[0m\n\u001b[1;32m   4908\u001b[0m             \u001b[0maxis\u001b[0m\u001b[0;34m=\u001b[0m\u001b[0maxis\u001b[0m\u001b[0;34m,\u001b[0m\u001b[0;34m\u001b[0m\u001b[0;34m\u001b[0m\u001b[0m\n",
      "\u001b[0;32m~/miniconda3/envs/bikes-ramp/lib/python3.9/site-packages/pandas/core/generic.py\u001b[0m in \u001b[0;36mdrop\u001b[0;34m(self, labels, axis, index, columns, level, inplace, errors)\u001b[0m\n\u001b[1;32m   4148\u001b[0m         \u001b[0;32mfor\u001b[0m \u001b[0maxis\u001b[0m\u001b[0;34m,\u001b[0m \u001b[0mlabels\u001b[0m \u001b[0;32min\u001b[0m \u001b[0maxes\u001b[0m\u001b[0;34m.\u001b[0m\u001b[0mitems\u001b[0m\u001b[0;34m(\u001b[0m\u001b[0;34m)\u001b[0m\u001b[0;34m:\u001b[0m\u001b[0;34m\u001b[0m\u001b[0;34m\u001b[0m\u001b[0m\n\u001b[1;32m   4149\u001b[0m             \u001b[0;32mif\u001b[0m \u001b[0mlabels\u001b[0m \u001b[0;32mis\u001b[0m \u001b[0;32mnot\u001b[0m \u001b[0;32mNone\u001b[0m\u001b[0;34m:\u001b[0m\u001b[0;34m\u001b[0m\u001b[0;34m\u001b[0m\u001b[0m\n\u001b[0;32m-> 4150\u001b[0;31m                 \u001b[0mobj\u001b[0m \u001b[0;34m=\u001b[0m \u001b[0mobj\u001b[0m\u001b[0;34m.\u001b[0m\u001b[0m_drop_axis\u001b[0m\u001b[0;34m(\u001b[0m\u001b[0mlabels\u001b[0m\u001b[0;34m,\u001b[0m \u001b[0maxis\u001b[0m\u001b[0;34m,\u001b[0m \u001b[0mlevel\u001b[0m\u001b[0;34m=\u001b[0m\u001b[0mlevel\u001b[0m\u001b[0;34m,\u001b[0m \u001b[0merrors\u001b[0m\u001b[0;34m=\u001b[0m\u001b[0merrors\u001b[0m\u001b[0;34m)\u001b[0m\u001b[0;34m\u001b[0m\u001b[0;34m\u001b[0m\u001b[0m\n\u001b[0m\u001b[1;32m   4151\u001b[0m \u001b[0;34m\u001b[0m\u001b[0m\n\u001b[1;32m   4152\u001b[0m         \u001b[0;32mif\u001b[0m \u001b[0minplace\u001b[0m\u001b[0;34m:\u001b[0m\u001b[0;34m\u001b[0m\u001b[0;34m\u001b[0m\u001b[0m\n",
      "\u001b[0;32m~/miniconda3/envs/bikes-ramp/lib/python3.9/site-packages/pandas/core/generic.py\u001b[0m in \u001b[0;36m_drop_axis\u001b[0;34m(self, labels, axis, level, errors)\u001b[0m\n\u001b[1;32m   4183\u001b[0m                 \u001b[0mnew_axis\u001b[0m \u001b[0;34m=\u001b[0m \u001b[0maxis\u001b[0m\u001b[0;34m.\u001b[0m\u001b[0mdrop\u001b[0m\u001b[0;34m(\u001b[0m\u001b[0mlabels\u001b[0m\u001b[0;34m,\u001b[0m \u001b[0mlevel\u001b[0m\u001b[0;34m=\u001b[0m\u001b[0mlevel\u001b[0m\u001b[0;34m,\u001b[0m \u001b[0merrors\u001b[0m\u001b[0;34m=\u001b[0m\u001b[0merrors\u001b[0m\u001b[0;34m)\u001b[0m\u001b[0;34m\u001b[0m\u001b[0;34m\u001b[0m\u001b[0m\n\u001b[1;32m   4184\u001b[0m             \u001b[0;32melse\u001b[0m\u001b[0;34m:\u001b[0m\u001b[0;34m\u001b[0m\u001b[0;34m\u001b[0m\u001b[0m\n\u001b[0;32m-> 4185\u001b[0;31m                 \u001b[0mnew_axis\u001b[0m \u001b[0;34m=\u001b[0m \u001b[0maxis\u001b[0m\u001b[0;34m.\u001b[0m\u001b[0mdrop\u001b[0m\u001b[0;34m(\u001b[0m\u001b[0mlabels\u001b[0m\u001b[0;34m,\u001b[0m \u001b[0merrors\u001b[0m\u001b[0;34m=\u001b[0m\u001b[0merrors\u001b[0m\u001b[0;34m)\u001b[0m\u001b[0;34m\u001b[0m\u001b[0;34m\u001b[0m\u001b[0m\n\u001b[0m\u001b[1;32m   4186\u001b[0m             \u001b[0mresult\u001b[0m \u001b[0;34m=\u001b[0m \u001b[0mself\u001b[0m\u001b[0;34m.\u001b[0m\u001b[0mreindex\u001b[0m\u001b[0;34m(\u001b[0m\u001b[0;34m**\u001b[0m\u001b[0;34m{\u001b[0m\u001b[0maxis_name\u001b[0m\u001b[0;34m:\u001b[0m \u001b[0mnew_axis\u001b[0m\u001b[0;34m}\u001b[0m\u001b[0;34m)\u001b[0m\u001b[0;34m\u001b[0m\u001b[0;34m\u001b[0m\u001b[0m\n\u001b[1;32m   4187\u001b[0m \u001b[0;34m\u001b[0m\u001b[0m\n",
      "\u001b[0;32m~/miniconda3/envs/bikes-ramp/lib/python3.9/site-packages/pandas/core/indexes/base.py\u001b[0m in \u001b[0;36mdrop\u001b[0;34m(self, labels, errors)\u001b[0m\n\u001b[1;32m   6015\u001b[0m         \u001b[0;32mif\u001b[0m \u001b[0mmask\u001b[0m\u001b[0;34m.\u001b[0m\u001b[0many\u001b[0m\u001b[0;34m(\u001b[0m\u001b[0;34m)\u001b[0m\u001b[0;34m:\u001b[0m\u001b[0;34m\u001b[0m\u001b[0;34m\u001b[0m\u001b[0m\n\u001b[1;32m   6016\u001b[0m             \u001b[0;32mif\u001b[0m \u001b[0merrors\u001b[0m \u001b[0;34m!=\u001b[0m \u001b[0;34m\"ignore\"\u001b[0m\u001b[0;34m:\u001b[0m\u001b[0;34m\u001b[0m\u001b[0;34m\u001b[0m\u001b[0m\n\u001b[0;32m-> 6017\u001b[0;31m                 \u001b[0;32mraise\u001b[0m \u001b[0mKeyError\u001b[0m\u001b[0;34m(\u001b[0m\u001b[0;34mf\"{labels[mask]} not found in axis\"\u001b[0m\u001b[0;34m)\u001b[0m\u001b[0;34m\u001b[0m\u001b[0;34m\u001b[0m\u001b[0m\n\u001b[0m\u001b[1;32m   6018\u001b[0m             \u001b[0mindexer\u001b[0m \u001b[0;34m=\u001b[0m \u001b[0mindexer\u001b[0m\u001b[0;34m[\u001b[0m\u001b[0;34m~\u001b[0m\u001b[0mmask\u001b[0m\u001b[0;34m]\u001b[0m\u001b[0;34m\u001b[0m\u001b[0;34m\u001b[0m\u001b[0m\n\u001b[1;32m   6019\u001b[0m         \u001b[0;32mreturn\u001b[0m \u001b[0mself\u001b[0m\u001b[0;34m.\u001b[0m\u001b[0mdelete\u001b[0m\u001b[0;34m(\u001b[0m\u001b[0mindexer\u001b[0m\u001b[0;34m)\u001b[0m\u001b[0;34m\u001b[0m\u001b[0;34m\u001b[0m\u001b[0m\n",
      "\u001b[0;31mKeyError\u001b[0m: \"['coordinates'] not found in axis\""
     ]
    }
   ],
   "source": [
    "X_train_merged.drop(['tn12', 'tn24', 'tx12','tx24', 'tminsol', 'sw', 'tw', \n",
    "                     'phenspe1', 'phenspe2', 'phenspe3', 'phenspe4', 'nnuage1', 'ctype1',\n",
    "                     'hnuage1', 'nnuage2', 'ctype2', 'hnuage2', 'nnuage3', 'ctype3',\n",
    "                     'hnuage3', 'nnuage4', 'ctype4', 'hnuage4', 'niv_bar', 'geop', 'hbas', 'cl',\n",
    "                     'cm', 'ch', 'numer_sta', 'per', 'longitude', 'latitude', 'counter_id', 'site_id', \n",
    "                     'site_name', 'counter_installation_date', 'coordinates'], axis=1, inplace=True)"
   ]
  },
  {
   "cell_type": "code",
   "execution_count": null,
   "id": "a7d4903e",
   "metadata": {},
   "outputs": [],
   "source": [
    "X_train_merged.columns"
   ]
  },
  {
   "cell_type": "code",
   "execution_count": null,
   "id": "bcdf6a12",
   "metadata": {
    "scrolled": true
   },
   "outputs": [],
   "source": [
    "import seaborn as sns\n",
    "corr = X_train_merged.corr()\n",
    "sns.set(rc={'figure.figsize':(12,10)})\n",
    "sns.heatmap(corr, xticklabels=corr.columns, yticklabels=corr.columns, cmap = 'Blues');"
   ]
  },
  {
   "cell_type": "code",
   "execution_count": null,
   "id": "a38368c4",
   "metadata": {
    "scrolled": true
   },
   "outputs": [],
   "source": [
    "X_train_merged.columns"
   ]
  },
  {
   "cell_type": "markdown",
   "id": "b456915d",
   "metadata": {},
   "source": [
    "#### B. Merge function"
   ]
  },
  {
   "cell_type": "code",
   "execution_count": 16,
   "id": "39320d61",
   "metadata": {},
   "outputs": [],
   "source": [
    "def merge_external_data(X): \n",
    "    X_weather = df_weather[['date','tend', 'dd', 'ff', 't', 'u', 'vv', 'ww', 'n', 'etat_sol','rr3']]\n",
    "    X[\"orig_index\"] = np.arange(X.shape[0])\n",
    "    X_merged = pd.merge_asof(X.sort_values(\"date\"), X_weather.sort_values(\"date\"), on='date')\n",
    "    X_merged = X_merged.sort_values(\"orig_index\")  \n",
    "    del X_merged[\"orig_index\"]\n",
    "    X_merged.drop(['longitude', 'latitude', 'site_name', 'site_id', 'counter_id', \n",
    "                   'counter_installation_date', 'coordinates', 'counter_technical_id'], axis=1, inplace=True)\n",
    "    return X_merged"
   ]
  },
  {
   "cell_type": "code",
   "execution_count": 17,
   "id": "f76e7498",
   "metadata": {},
   "outputs": [],
   "source": [
    "from sklearn.pipeline import make_pipeline\n",
    "from sklearn.preprocessing import OrdinalEncoder, OneHotEncoder\n",
    "from sklearn.preprocessing import StandardScaler\n",
    "import lightgbm as ltb\n",
    "\n",
    "\n",
    "\n",
    "date_encoder = FunctionTransformer(_encode_dates)\n",
    "date_cols = _encode_dates(X_train_merged[[\"date\"]]).columns.tolist()\n",
    "\n",
    "    \n",
    "categorical_encoder = OrdinalEncoder(handle_unknown=\"use_encoded_value\", unknown_value=-1)\n",
    "categorical_cols = [\"counter_name\"]\n",
    "        \n",
    "numeric_encoder = StandardScaler()\n",
    "numeric_cols = ['tend', 'dd', 'ff', 't', 'u', 'vv', 'ww', 'n', 'etat_sol','rr3']\n",
    "\n",
    "preprocessor = ColumnTransformer(\n",
    "        [\n",
    "            (\"date\", OneHotEncoder(), date_cols),\n",
    "            (\"cat\", categorical_encoder, categorical_cols),\n",
    "            (\"numeric\", numeric_encoder, numeric_cols) \n",
    "        ]\n",
    ")\n",
    "\n",
    "regressor = ltb.LGBMRegressor()\n",
    "\n",
    "\n",
    "pipe = make_pipeline(\n",
    "    FunctionTransformer(merge_external_data, validate=False),\n",
    "    date_encoder,\n",
    "    preprocessor,\n",
    "    regressor,\n",
    ")"
   ]
  },
  {
   "cell_type": "code",
   "execution_count": 18,
   "id": "db912b34",
   "metadata": {},
   "outputs": [],
   "source": [
    "merger = pipe[:2]\n",
    "X_train_augmented = merger.transform(X_train)\n",
    "X_test_augmented = merger.transform(X_test)"
   ]
  },
  {
   "cell_type": "code",
   "execution_count": 19,
   "id": "297f356d",
   "metadata": {},
   "outputs": [],
   "source": [
    "predictor = pipe[2:]\n",
    "_ = predictor.fit(X_train_augmented, y_train)"
   ]
  },
  {
   "cell_type": "code",
   "execution_count": 20,
   "id": "7f2b8ad2",
   "metadata": {},
   "outputs": [],
   "source": [
    "from sklearn.inspection import permutation_importance\n",
    "\n",
    "feature_importances = permutation_importance(\n",
    "    predictor, X_train_augmented[:20000], y_train[:20000], n_repeats=10, random_state=0\n",
    ")"
   ]
  },
  {
   "cell_type": "code",
   "execution_count": null,
   "id": "78caef82",
   "metadata": {},
   "outputs": [],
   "source": [
    "sorted_idx = feature_importances.importances_mean.argsort()\n",
    "\n",
    "fig, ax = plt.subplots()\n",
    "ax.boxplot(feature_importances.importances[sorted_idx].T,\n",
    "           vert=False, labels=X_train_augmented.columns[sorted_idx])\n",
    "ax.set_title(\"Permutation Importances (train set)\")\n",
    "fig.tight_layout()\n",
    "plt.show()"
   ]
  },
  {
   "cell_type": "code",
   "execution_count": null,
   "id": "3d6a49c7",
   "metadata": {},
   "outputs": [],
   "source": [
    "X_train_merged.columns"
   ]
  },
  {
   "cell_type": "code",
   "execution_count": null,
   "id": "0cf07d5f",
   "metadata": {},
   "outputs": [],
   "source": [
    "X_train_merged.drop(['counter_technical_id', 'pmer', 'tend', 'cod_tend', 'dd', 'ff','raf10', \n",
    "                     'rafper', 'etat_sol', 'ht_neige', 'ssfrai', 'perssfrai', 'rr1', 'rr6', \n",
    "                     'rr12', 'rr24', 'vv', 'ww', 'w1', 'w2', 'n', 'nbas', 'pres', \n",
    "                     'tend24', 'td'], axis=1, inplace=True)"
   ]
  },
  {
   "cell_type": "code",
   "execution_count": null,
   "id": "5fc24dd5",
   "metadata": {
    "scrolled": true
   },
   "outputs": [],
   "source": [
    "X_train_merged.head()"
   ]
  },
  {
   "cell_type": "code",
   "execution_count": null,
   "id": "758448ea",
   "metadata": {},
   "outputs": [],
   "source": [
    "def merge_external_data(X): \n",
    "    X_weather = df_weather[['date','t', 'u']]\n",
    "    X[\"orig_index\"] = np.arange(X.shape[0])\n",
    "    X_merged = pd.merge_asof(X.sort_values(\"date\"), X_weather.sort_values(\"date\"), on='date')\n",
    "    X_merged = X_merged.sort_values(\"orig_index\")  \n",
    "    del X_merged[\"orig_index\"]\n",
    "    X_merged.drop(['longitude', 'latitude', 'site_name', 'site_id', 'counter_id', \n",
    "                   'counter_installation_date', 'coordinates', 'counter_technical_id'], axis=1, inplace=True)\n",
    "    return X_merged"
   ]
  },
  {
   "cell_type": "markdown",
   "id": "845f125f",
   "metadata": {},
   "source": [
    "## LINEARITY"
   ]
  },
  {
   "cell_type": "code",
   "execution_count": null,
   "id": "1392ca0f",
   "metadata": {},
   "outputs": [],
   "source": [
    "y_train_bis = pd.DataFrame(y_train)"
   ]
  },
  {
   "cell_type": "code",
   "execution_count": null,
   "id": "115dea5f",
   "metadata": {},
   "outputs": [],
   "source": [
    "y_train_bis.head"
   ]
  },
  {
   "cell_type": "code",
   "execution_count": null,
   "id": "788f5b58",
   "metadata": {},
   "outputs": [],
   "source": [
    "datatest = X_train_merged\n",
    "datatest['log_bike_count'] = y_train_bis"
   ]
  },
  {
   "cell_type": "code",
   "execution_count": null,
   "id": "05590fe2",
   "metadata": {},
   "outputs": [],
   "source": [
    "datatest.columns"
   ]
  },
  {
   "cell_type": "code",
   "execution_count": null,
   "id": "a044bd18",
   "metadata": {},
   "outputs": [],
   "source": [
    "datatest = _encode_dates(datatest)"
   ]
  },
  {
   "cell_type": "markdown",
   "id": "d69588ff",
   "metadata": {},
   "source": [
    "predictor = pipe[2:]\n",
    "_ = predictor.fit(X_train_augmented, y_train)"
   ]
  },
  {
   "cell_type": "code",
   "execution_count": null,
   "id": "c21388b7",
   "metadata": {},
   "outputs": [],
   "source": [
    "sns.pairplot(data=datatest)"
   ]
  },
  {
   "cell_type": "code",
   "execution_count": null,
   "id": "c79585e4",
   "metadata": {},
   "outputs": [],
   "source": [
    "datatest.columns"
   ]
  },
  {
   "cell_type": "code",
   "execution_count": null,
   "id": "43af820c",
   "metadata": {},
   "outputs": [],
   "source": [
    "import pandas_profiling\n",
    "datatest.profile_report()"
   ]
  },
  {
   "cell_type": "markdown",
   "id": "99329981",
   "metadata": {},
   "source": [
    "## 2. HIST GRADIENT BOOST"
   ]
  },
  {
   "cell_type": "code",
   "execution_count": null,
   "id": "fbfb8226",
   "metadata": {},
   "outputs": [],
   "source": [
    "from sklearn.experimental import enable_hist_gradient_boosting"
   ]
  },
  {
   "cell_type": "code",
   "execution_count": null,
   "id": "e3894400",
   "metadata": {},
   "outputs": [],
   "source": [
    "from sklearn.compose import ColumnTransformer\n",
    "from sklearn.linear_model import Ridge\n",
    "from sklearn.ensemble import HistGradientBoostingRegressor\n",
    "from sklearn.pipeline import make_pipeline\n",
    "from sklearn.preprocessing import OrdinalEncoder, OneHotEncoder\n",
    "from sklearn.preprocessing import StandardScaler\n",
    "\n",
    "\n",
    "date_encoder = FunctionTransformer(_encode_dates)\n",
    "date_cols = _encode_dates(X_train[[\"date\"]]).columns.tolist()\n",
    "\n",
    "    \n",
    "categorical_encoder = OrdinalEncoder(handle_unknown=\"use_encoded_value\", unknown_value=-1)\n",
    "categorical_cols = [\"counter_name\"]\n",
    "        \n",
    "numeric_encoder = StandardScaler()\n",
    "numeric_cols = ['t',\"u\"]\n",
    "\n",
    "preprocessor = ColumnTransformer(\n",
    "        [\n",
    "            (\"date\", \"passthrough\", date_cols),\n",
    "            (\"cat\", categorical_encoder, categorical_cols),\n",
    "            (\"numeric\", numeric_encoder, numeric_cols) \n",
    "        ]\n",
    ")\n",
    "    \n",
    "\n",
    "regressor = HistGradientBoostingRegressor(random_state=0)\n",
    "\n",
    "pipe = make_pipeline(\n",
    "    FunctionTransformer(merge_external_data, validate=False),\n",
    "    date_encoder,\n",
    "    preprocessor,\n",
    "    regressor,\n",
    ")"
   ]
  },
  {
   "cell_type": "code",
   "execution_count": null,
   "id": "3d56dc9f",
   "metadata": {},
   "outputs": [],
   "source": [
    "from sklearn.model_selection import cross_val_score\n",
    "import time\n",
    "\n",
    "start = time.time()\n",
    "pipe.fit(X_train, y_train)\n",
    "elapsed_time = time.time() - start \n",
    "\n",
    "scores = cross_val_score(\n",
    "    pipe,\n",
    "    X_train,\n",
    "    y_train,\n",
    "    scoring=\"neg_root_mean_squared_error\",\n",
    "    cv=5,\n",
    ")\n",
    "print(f\"RMSE: {-scores.mean():.3}± {(-scores).std():.3}\")\n",
    "print(f\"the model was trained in {elapsed_time:.3f}\")"
   ]
  },
  {
   "cell_type": "markdown",
   "id": "d59b24a6",
   "metadata": {},
   "source": [
    "## 3. RIDGE / LASSO"
   ]
  },
  {
   "cell_type": "code",
   "execution_count": null,
   "id": "2f7dba10",
   "metadata": {},
   "outputs": [],
   "source": [
    "from sklearn.compose import ColumnTransformer\n",
    "from sklearn.linear_model import Ridge\n",
    "from sklearn.linear_model import Lasso\n",
    "from sklearn.ensemble import HistGradientBoostingRegressor\n",
    "from sklearn.pipeline import make_pipeline\n",
    "from sklearn.preprocessing import OrdinalEncoder, OneHotEncoder\n",
    "from sklearn.preprocessing import StandardScaler\n",
    "\n",
    "\n",
    "date_encoder = FunctionTransformer(_encode_dates)\n",
    "date_cols = _encode_dates(X_train[[\"date\"]]).columns.tolist()\n",
    "\n",
    "    \n",
    "categorical_encoder = OrdinalEncoder(handle_unknown=\"use_encoded_value\", unknown_value=-1)\n",
    "categorical_cols = [\"counter_name\"]\n",
    "        \n",
    "numeric_encoder = StandardScaler()\n",
    "numeric_cols = ['t',\"u\"]\n",
    "\n",
    "preprocessor = ColumnTransformer(\n",
    "        [\n",
    "            (\"date\", \"passthrough\", date_cols),\n",
    "            (\"cat\", categorical_encoder, categorical_cols),\n",
    "            (\"numeric\", numeric_encoder, numeric_cols) \n",
    "        ]\n",
    ")\n",
    "    \n",
    "\n",
    "regressor = Lasso()\n",
    "\n",
    "pipe2 = make_pipeline(\n",
    "    FunctionTransformer(merge_external_data, validate=False),\n",
    "    date_encoder,\n",
    "    preprocessor,\n",
    "    regressor,\n",
    ")"
   ]
  },
  {
   "cell_type": "code",
   "execution_count": null,
   "id": "5878e750",
   "metadata": {},
   "outputs": [],
   "source": [
    "from sklearn.model_selection import cross_val_score\n",
    "import time\n",
    "\n",
    "start = time.time()\n",
    "pipe2.fit(X_train, y_train)\n",
    "elapsed_time = time.time() - start \n",
    "\n",
    "scores = cross_val_score(\n",
    "    pipe2,\n",
    "    X_train,\n",
    "    y_train,\n",
    "    scoring=\"neg_root_mean_squared_error\",\n",
    "    cv=5,\n",
    ")\n",
    "print(f\"RMSE: {-scores.mean():.3}± {(-scores).std():.3}\")\n",
    "print(f\"the model was trained in {elapsed_time:.3f}\")"
   ]
  },
  {
   "cell_type": "markdown",
   "id": "48ab5900",
   "metadata": {},
   "source": [
    "## 3. Elasticnet"
   ]
  },
  {
   "cell_type": "code",
   "execution_count": null,
   "id": "247261d5",
   "metadata": {},
   "outputs": [],
   "source": [
    "from sklearn.linear_model import ElasticNet\n",
    "\n",
    "from sklearn.compose import ColumnTransformer\n",
    "from sklearn.linear_model import Ridge\n",
    "from sklearn.linear_model import Lasso\n",
    "from sklearn.ensemble import HistGradientBoostingRegressor\n",
    "from sklearn.pipeline import make_pipeline\n",
    "from sklearn.preprocessing import OrdinalEncoder, OneHotEncoder\n",
    "from sklearn.preprocessing import StandardScaler\n",
    "\n",
    "\n",
    "date_encoder = FunctionTransformer(_encode_dates)\n",
    "date_cols = _encode_dates(X_train[[\"date\"]]).columns.tolist()\n",
    "\n",
    "    \n",
    "categorical_encoder = OrdinalEncoder(handle_unknown=\"use_encoded_value\", unknown_value=-1)\n",
    "categorical_cols = [\"counter_name\"]\n",
    "        \n",
    "numeric_encoder = StandardScaler()\n",
    "numeric_cols = ['t',\"u\"]\n",
    "\n",
    "preprocessor = ColumnTransformer(\n",
    "        [\n",
    "            (\"date\", \"passthrough\", date_cols),\n",
    "            (\"cat\", categorical_encoder, categorical_cols),\n",
    "            (\"numeric\", numeric_encoder, numeric_cols) \n",
    "        ]\n",
    ")\n",
    "    \n",
    "\n",
    "regressor = ElasticNet()\n",
    "\n",
    "pipe3 = make_pipeline(\n",
    "    FunctionTransformer(merge_external_data, validate=False),\n",
    "    date_encoder,\n",
    "    preprocessor,\n",
    "    regressor,\n",
    ")"
   ]
  },
  {
   "cell_type": "code",
   "execution_count": null,
   "id": "705211ee",
   "metadata": {},
   "outputs": [],
   "source": [
    "from sklearn.model_selection import cross_val_score\n",
    "import time\n",
    "\n",
    "start = time.time()\n",
    "pipe3.fit(X_train, y_train)\n",
    "elapsed_time = time.time() - start \n",
    "\n",
    "scores = cross_val_score(\n",
    "    pipe3,\n",
    "    X_train,\n",
    "    y_train,\n",
    "    scoring=\"neg_root_mean_squared_error\",\n",
    "    cv=5,\n",
    ")\n",
    "print(f\"RMSE: {-scores.mean():.3}± {(-scores).std():.3}\")\n",
    "print(f\"the model was trained in {elapsed_time:.3f}\")"
   ]
  },
  {
   "cell_type": "markdown",
   "id": "1026be8c",
   "metadata": {},
   "source": [
    "## 4.XGB"
   ]
  },
  {
   "cell_type": "code",
   "execution_count": null,
   "id": "9f73431e",
   "metadata": {},
   "outputs": [],
   "source": [
    "import xgboost as xgb\n",
    "\n",
    "from sklearn.linear_model import ElasticNet\n",
    "\n",
    "from sklearn.compose import ColumnTransformer\n",
    "from sklearn.linear_model import Ridge\n",
    "from sklearn.linear_model import Lasso\n",
    "from sklearn.ensemble import HistGradientBoostingRegressor\n",
    "from sklearn.pipeline import make_pipeline\n",
    "from sklearn.preprocessing import OrdinalEncoder, OneHotEncoder\n",
    "from sklearn.preprocessing import StandardScaler\n",
    "\n",
    "\n",
    "date_encoder = FunctionTransformer(_encode_dates)\n",
    "date_cols = _encode_dates(X_train[[\"date\"]]).columns.tolist()\n",
    "\n",
    "    \n",
    "categorical_encoder = OrdinalEncoder(handle_unknown=\"use_encoded_value\", unknown_value=-1)\n",
    "categorical_cols = [\"counter_name\"]\n",
    "        \n",
    "numeric_encoder = StandardScaler()\n",
    "numeric_cols = ['t',\"u\"]\n",
    "\n",
    "preprocessor = ColumnTransformer(\n",
    "        [\n",
    "            (\"date\", \"passthrough\", date_cols),\n",
    "            (\"cat\", categorical_encoder, categorical_cols),\n",
    "            (\"numeric\", numeric_encoder, numeric_cols) \n",
    "        ]\n",
    ")\n",
    "    \n",
    "\n",
    "regressor = xgb.XGBRegressor()\n",
    "\n",
    "pipe4 = make_pipeline(\n",
    "    FunctionTransformer(merge_external_data, validate=False),\n",
    "    date_encoder,\n",
    "    preprocessor,\n",
    "    regressor,\n",
    ")"
   ]
  },
  {
   "cell_type": "code",
   "execution_count": null,
   "id": "e34dc995",
   "metadata": {},
   "outputs": [],
   "source": [
    "from sklearn.model_selection import cross_val_score\n",
    "import time\n",
    "\n",
    "start = time.time()\n",
    "pipe4.fit(X_train, y_train)\n",
    "elapsed_time = time.time() - start \n",
    "\n",
    "scores = cross_val_score(\n",
    "    pipe4,\n",
    "    X_train,\n",
    "    y_train,\n",
    "    scoring=\"neg_root_mean_squared_error\",\n",
    "    cv=5,\n",
    ")\n",
    "print(f\"RMSE: {-scores.mean():.3}± {(-scores).std():.3}\")\n",
    "print(f\"the model was trained in {elapsed_time:.3f}\")"
   ]
  },
  {
   "cell_type": "markdown",
   "id": "32265eb2",
   "metadata": {},
   "source": [
    "## 5. RandomForest"
   ]
  },
  {
   "cell_type": "code",
   "execution_count": null,
   "id": "b1114d2d",
   "metadata": {},
   "outputs": [],
   "source": [
    "from sklearn.ensemble import RandomForestRegressor\n",
    "\n",
    "import xgboost as xgb\n",
    "\n",
    "from sklearn.linear_model import ElasticNet\n",
    "\n",
    "from sklearn.compose import ColumnTransformer\n",
    "from sklearn.linear_model import Ridge\n",
    "from sklearn.linear_model import Lasso\n",
    "from sklearn.ensemble import HistGradientBoostingRegressor\n",
    "from sklearn.pipeline import make_pipeline\n",
    "from sklearn.preprocessing import OrdinalEncoder, OneHotEncoder\n",
    "from sklearn.preprocessing import StandardScaler\n",
    "\n",
    "\n",
    "date_encoder = FunctionTransformer(_encode_dates)\n",
    "date_cols = _encode_dates(X_train[[\"date\"]]).columns.tolist()\n",
    "\n",
    "    \n",
    "categorical_encoder = OrdinalEncoder(handle_unknown=\"use_encoded_value\", unknown_value=-1)\n",
    "categorical_cols = [\"counter_name\"]\n",
    "        \n",
    "numeric_encoder = StandardScaler()\n",
    "numeric_cols = ['t',\"u\"]\n",
    "\n",
    "preprocessor = ColumnTransformer(\n",
    "        [\n",
    "            (\"date\", \"passthrough\", date_cols),\n",
    "            (\"cat\", categorical_encoder, categorical_cols),\n",
    "            (\"numeric\", numeric_encoder, numeric_cols) \n",
    "        ]\n",
    ")\n",
    "    \n",
    "\n",
    "regressor = RandomForestRegressor()\n",
    "\n",
    "pipe5 = make_pipeline(\n",
    "    FunctionTransformer(merge_external_data, validate=False),\n",
    "    date_encoder,\n",
    "    preprocessor,\n",
    "    regressor,\n",
    ")"
   ]
  },
  {
   "cell_type": "code",
   "execution_count": null,
   "id": "775e3f2c",
   "metadata": {},
   "outputs": [],
   "source": [
    "from sklearn.model_selection import cross_val_score\n",
    "import time\n",
    "\n",
    "start = time.time()\n",
    "pipe5.fit(X_train, y_train)\n",
    "elapsed_time = time.time() - start \n",
    "\n",
    "scores = cross_val_score(\n",
    "    pipe5,\n",
    "    X_train,\n",
    "    y_train,\n",
    "    scoring=\"neg_root_mean_squared_error\",\n",
    "    cv=5,\n",
    ")\n",
    "print(f\"RMSE: {-scores.mean():.3}± {(-scores).std():.3}\")\n",
    "print(f\"the model was trained in {elapsed_time:.3f}\")"
   ]
  },
  {
   "cell_type": "markdown",
   "id": "4a54b4fd",
   "metadata": {},
   "source": [
    "## 5. LightGBM"
   ]
  },
  {
   "cell_type": "code",
   "execution_count": null,
   "id": "a9ca5f38",
   "metadata": {},
   "outputs": [],
   "source": [
    "import lightgbm as lgb"
   ]
  },
  {
   "cell_type": "code",
   "execution_count": null,
   "id": "972ff562",
   "metadata": {},
   "outputs": [],
   "source": [
    "from sklearn.ensemble import RandomForestRegressor\n",
    "\n",
    "import xgboost as xgb\n",
    "\n",
    "from sklearn.linear_model import ElasticNet\n",
    "\n",
    "from sklearn.compose import ColumnTransformer\n",
    "from sklearn.linear_model import Ridge\n",
    "from sklearn.linear_model import Lasso\n",
    "from sklearn.ensemble import HistGradientBoostingRegressor\n",
    "from sklearn.pipeline import make_pipeline\n",
    "from sklearn.preprocessing import OrdinalEncoder, OneHotEncoder\n",
    "from sklearn.preprocessing import StandardScaler\n",
    "\n",
    "\n",
    "date_encoder = FunctionTransformer(_encode_dates)\n",
    "date_cols = _encode_dates(X_train[[\"date\"]]).columns.tolist()\n",
    "\n",
    "    \n",
    "categorical_encoder = OrdinalEncoder(handle_unknown=\"use_encoded_value\", unknown_value=-1)\n",
    "categorical_cols = [\"counter_name\"]\n",
    "        \n",
    "numeric_encoder = StandardScaler()\n",
    "numeric_cols = ['t',\"rr3\"]\n",
    "\n",
    "preprocessor = ColumnTransformer(\n",
    "        [\n",
    "            (\"date\", \"passthrough\", date_cols),\n",
    "            (\"cat\", categorical_encoder, categorical_cols),\n",
    "            (\"numeric\", numeric_encoder, numeric_cols) \n",
    "        ]\n",
    ")\n",
    "    \n",
    "\n",
    "regressor = lgb.LGBMRegressor()\n",
    "\n",
    "pipe6 = make_pipeline(\n",
    "    FunctionTransformer(merge_external_data, validate=False),\n",
    "    date_encoder,\n",
    "    preprocessor,\n",
    "    regressor,\n",
    ")"
   ]
  },
  {
   "cell_type": "code",
   "execution_count": null,
   "id": "adab550a",
   "metadata": {},
   "outputs": [],
   "source": [
    "from sklearn.model_selection import cross_val_score\n",
    "import time\n",
    "\n",
    "start = time.time()\n",
    "pipe6.fit(X_train, y_train)\n",
    "elapsed_time = time.time() - start \n",
    "\n",
    "scores = cross_val_score(\n",
    "    pipe6,\n",
    "    X_train,\n",
    "    y_train,\n",
    "    scoring=\"neg_root_mean_squared_error\",\n",
    "    cv=5,\n",
    ")\n",
    "print(f\"RMSE: {-scores.mean():.3}± {(-scores).std():.3}\")\n",
    "print(f\"the model was trained in {elapsed_time:.3f}\")"
   ]
  },
  {
   "cell_type": "markdown",
   "id": "41c07454",
   "metadata": {},
   "source": [
    "## CATBOOST"
   ]
  },
  {
   "cell_type": "code",
   "execution_count": null,
   "id": "2b623ea1",
   "metadata": {},
   "outputs": [],
   "source": [
    "pip install catboost"
   ]
  },
  {
   "cell_type": "code",
   "execution_count": null,
   "id": "5bf43243",
   "metadata": {},
   "outputs": [],
   "source": [
    "from catboost import CatBoostRegressor\n",
    "from sklearn.preprocessing import FunctionTransformer\n",
    "from sklearn.compose import ColumnTransformer\n",
    "from sklearn.pipeline import make_pipeline\n",
    "from sklearn.preprocessing import OrdinalEncoder, OneHotEncoder\n",
    "from sklearn.preprocessing import StandardScaler\n",
    "\n",
    "\n",
    "date_encoder = FunctionTransformer(_encode_dates)\n",
    "date_cols = _encode_dates(X_train[[\"date\"]]).columns.tolist()\n",
    "\n",
    "    \n",
    "categorical_encoder = OneHotEncoder(handle_unknown='ignore')\n",
    "categorical_cols = [\"counter_name\"]\n",
    "        \n",
    "numeric_encoder = StandardScaler()\n",
    "numeric_cols = ['t',\"u\"]\n",
    "\n",
    "preprocessor = ColumnTransformer(\n",
    "        [\n",
    "            (\"date\", \"passthrough\", date_cols),\n",
    "            (\"cat\", categorical_encoder, categorical_cols),\n",
    "            (\"numeric\", numeric_encoder, numeric_cols) \n",
    "        ]\n",
    ")\n",
    "    \n",
    "\n",
    "regressor = CatBoostRegressor()\n",
    "\n",
    "pipe7 = make_pipeline(\n",
    "    FunctionTransformer(merge_external_data, validate=False),\n",
    "    date_encoder,\n",
    "    preprocessor,\n",
    "    regressor,\n",
    ")"
   ]
  },
  {
   "cell_type": "code",
   "execution_count": null,
   "id": "874bb4ee",
   "metadata": {},
   "outputs": [],
   "source": [
    "from sklearn.model_selection import cross_val_score\n",
    "import time\n",
    "\n",
    "start = time.time()\n",
    "pipe7.fit(X_train, y_train)\n",
    "elapsed_time = time.time() - start \n",
    "\n",
    "scores = cross_val_score(\n",
    "    pipe7,\n",
    "    X_train_merged,\n",
    "    y_train,\n",
    "    scoring=\"neg_root_mean_squared_error\",\n",
    "    cv=5,\n",
    ")\n",
    "print(f\"RMSE: {-scores.mean():.3}± {(-scores).std():.3}\")"
   ]
  },
  {
   "cell_type": "code",
   "execution_count": null,
   "id": "94d416ed",
   "metadata": {},
   "outputs": [],
   "source": [
    "from sklearn.model_selection import GridSearchCV\n",
    "\n",
    "pipe7.fit(X_train, y_train)\n",
    "params = [{'depth' : [6,8,10],\n",
    "           'learning_rate' : [0.01, 0.05, 0.1],\n",
    "           'iterations'    : [30, 50, 100]}]\n",
    "search = GridSearchCV(pipe7, params, cv = 5, scoring='neg_mean_squared_error')\n",
    "search.fit(X_train, y_train)\n",
    "print(search.best_params_)"
   ]
  }
 ],
 "metadata": {
  "kernelspec": {
   "display_name": "Python 3 (ipykernel)",
   "language": "python",
   "name": "python3"
  },
  "language_info": {
   "codemirror_mode": {
    "name": "ipython",
    "version": 3
   },
   "file_extension": ".py",
   "mimetype": "text/x-python",
   "name": "python",
   "nbconvert_exporter": "python",
   "pygments_lexer": "ipython3",
   "version": "3.9.7"
  }
 },
 "nbformat": 4,
 "nbformat_minor": 5
}
