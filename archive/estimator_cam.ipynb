{
 "cells": [
  {
   "cell_type": "code",
   "execution_count": null,
   "id": "47ca4201",
   "metadata": {},
   "outputs": [],
   "source": [
    "import lightgbm as ltb\n",
    "\n",
    "\n",
    "date_encoder = FunctionTransformer(_encode_dates)\n",
    "date_cols = _encode_dates(X_train[[“date”]]).columns.tolist()\n",
    "categorical_encoder = OneHotEncoder(handle_unknown=“ignore”)\n",
    "categorical_cols = [“site_name”, “etat_sol”, “nnuage1”, “ctype1\"]\n",
    "numeric_encoder = StandardScaler()\n",
    "numeric_cols = [‘dd’, ‘ff’, ‘t’, ‘u’, ‘vv’, ‘ww’, ‘n’, ‘hbas’, “hnuage3”, “tend”, “cl”, “rr3\"]\n",
    "preprocessor = ColumnTransformer(\n",
    "        [\n",
    "            (“date”, “passthrough”, date_cols),\n",
    "            (“cat”, categorical_encoder, categorical_cols),\n",
    "            (“numeric”, numeric_encoder, numeric_cols)\n",
    "        ]\n",
    ")\n",
    "regressor = ltb.LGBMRegressor(alpha = 20,num_leaves=100, n_estimators=200, lambda_l1=2, lambda_l2=2, max_depth=100)\n",
    "pipe6 = make_pipeline(\n",
    "    FunctionTransformer(merge_external_data, validate=False),\n",
    "    date_encoder,\n",
    "    preprocessor,\n",
    "    regressor,\n",
    ")"
   ]
  },
  {
   "cell_type": "code",
   "execution_count": 1,
   "id": "e82ab7d8",
   "metadata": {},
   "outputs": [],
   "source": [
    "import problem"
   ]
  },
  {
   "cell_type": "code",
   "execution_count": null,
   "id": "6d219526",
   "metadata": {},
   "outputs": [],
   "source": []
  }
 ],
 "metadata": {
  "kernelspec": {
   "display_name": "Python 3 (ipykernel)",
   "language": "python",
   "name": "python3"
  },
  "language_info": {
   "codemirror_mode": {
    "name": "ipython",
    "version": 3
   },
   "file_extension": ".py",
   "mimetype": "text/x-python",
   "name": "python",
   "nbconvert_exporter": "python",
   "pygments_lexer": "ipython3",
   "version": "3.9.7"
  }
 },
 "nbformat": 4,
 "nbformat_minor": 5
}
